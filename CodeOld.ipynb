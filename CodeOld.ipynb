{
 "cells": [
  {
   "cell_type": "code",
   "execution_count": 39,
   "metadata": {},
   "outputs": [],
   "source": [
    "import os\n",
    "import pandas as pd\n",
    "from sklearn.model_selection import train_test_split\n",
    "import matplotlib.pyplot as plt\n",
    "from tensorflow.keras.preprocessing.image import ImageDataGenerator\n",
    "import tensorflow as tf\n",
    "from tensorflow.keras.models import Sequential\n",
    "from tensorflow.keras.layers import Conv2D, MaxPooling2D, Flatten, Dense, Dropout, GlobalAveragePooling2D\n",
    "from tensorflow.keras.applications import ResNet50\n",
    "from tensorflow.keras.optimizers import Adam\n",
    "from sklearn.metrics import classification_report, roc_auc_score"
   ]
  },
  {
   "cell_type": "code",
   "execution_count": 40,
   "metadata": {},
   "outputs": [],
   "source": [
    "DATASET_DIR = \"BreaKHis_v1/histology_slides/breast\"\n",
    "MAGNIFICATIONS = [\"40X\", \"100X\", \"200X\", \"400X\"]"
   ]
  },
  {
   "cell_type": "code",
   "execution_count": 41,
   "metadata": {},
   "outputs": [],
   "source": [
    "# Dataset generators\n",
    "IMG_SIZE = (128, 128)  # Change to (224, 224) for ResNet50\n",
    "BATCH_SIZE = 32"
   ]
  },
  {
   "cell_type": "code",
   "execution_count": 42,
   "metadata": {},
   "outputs": [],
   "source": [
    "def load_dataset_structure(dataset_dir):\n",
    "    \"\"\"\n",
    "    Load the dataset structure, accommodating multi-level subfolders.\n",
    "    Args:\n",
    "        dataset_dir (str): The path to the dataset directory.\n",
    "    Returns:\n",
    "        pd.DataFrame: A DataFrame containing metadata about the dataset.\n",
    "    \"\"\"\n",
    "    data = []\n",
    "    # Traverse all subdirectories\n",
    "    for root, dirs, files in os.walk(dataset_dir):\n",
    "        for file in files:\n",
    "            if file.endswith((\".png\", \".jpg\", \".jpeg\", \".tif\")):  # Include valid image formats\n",
    "                file_path = os.path.join(root, file)\n",
    "                # Extract class and subtype from folder hierarchy\n",
    "                class_name = os.path.basename(os.path.dirname(os.path.dirname(file_path)))\n",
    "                subtype = os.path.basename(os.path.dirname(file_path))\n",
    "                data.append({\"image_path\": file_path, \"class\": class_name, \"subtype\": subtype})\n",
    "\n",
    "    # Convert to DataFrame\n",
    "    return pd.DataFrame(data)\n"
   ]
  },
  {
   "cell_type": "code",
   "execution_count": 43,
   "metadata": {},
   "outputs": [],
   "source": [
    "def load_dataset_structure(dataset_dir):\n",
    "    data = []\n",
    "    for root, dirs, files in os.walk(dataset_dir):\n",
    "        for file in files:\n",
    "            if file.endswith(('.jpg', '.png', '.jpeg')):  # Add more extensions if needed\n",
    "                class_label = os.path.basename(root)  # Parent folder name as class\n",
    "                file_path = os.path.join(root, file)\n",
    "                data.append({'file_path': file_path, 'class': class_label})\n",
    "    return pd.DataFrame(data)"
   ]
  },
  {
   "cell_type": "code",
   "execution_count": 44,
   "metadata": {},
   "outputs": [],
   "source": [
    "def visualize_class_distribution(dataset_df):\n",
    "    \"\"\"\n",
    "    Visualize the distribution of classes in the dataset.\n",
    "    Args:\n",
    "        dataset_df (pd.DataFrame): The dataset DataFrame.\n",
    "    \"\"\"\n",
    "    # Use 'class' instead of 'category'\n",
    "    class_counts = dataset_df['class'].value_counts()\n",
    "    plt.figure(figsize=(10, 6))\n",
    "    class_counts.plot(kind='bar', color='skyblue')\n",
    "    plt.title('Class Distribution')\n",
    "    plt.xlabel('Class')\n",
    "    plt.ylabel('Number of Images')\n",
    "    plt.xticks(rotation=45)\n",
    "    plt.show()\n"
   ]
  },
  {
   "cell_type": "code",
   "execution_count": 45,
   "metadata": {},
   "outputs": [],
   "source": [
    "def preprocess_and_split(dataset_df, test_size=0.15, val_size=0.15):\n",
    "    \"\"\"\n",
    "    Split the dataset into training, validation, and test sets.\n",
    "    Args:\n",
    "        dataset_df (pd.DataFrame): The dataset DataFrame.\n",
    "        test_size (float): Fraction of data for the test set.\n",
    "        val_size (float): Fraction of data for the validation set.\n",
    "    Returns:\n",
    "        train_df, val_df, test_df: DataFrames for training, validation, and testing.\n",
    "    \"\"\"\n",
    "    # Use 'class' instead of 'category'\n",
    "    train_val_df, test_df = train_test_split(dataset_df, test_size=test_size, stratify=dataset_df['class'], random_state=42)\n",
    "    train_df, val_df = train_test_split(train_val_df, test_size=val_size / (1 - test_size), stratify=train_val_df['class'], random_state=42)\n",
    "    return train_df, val_df, test_df"
   ]
  },
  {
   "cell_type": "code",
   "execution_count": 46,
   "metadata": {},
   "outputs": [],
   "source": [
    "def create_generators(train_df, val_df, test_df, target_size=(224, 224), batch_size=32):\n",
    "    \"\"\"\n",
    "    Create data generators for training, validation, and testing.\n",
    "    Args:\n",
    "        train_df (pd.DataFrame): Training DataFrame.\n",
    "        val_df (pd.DataFrame): Validation DataFrame.\n",
    "        test_df (pd.DataFrame): Testing DataFrame.\n",
    "        target_size (tuple): Target size for image resizing.\n",
    "        batch_size (int): Batch size for generators.\n",
    "    Returns:\n",
    "        train_gen, val_gen, test_gen: Data generators for training, validation, and testing.\n",
    "    \"\"\"\n",
    "    datagen = ImageDataGenerator(rescale=1.0 / 255)\n",
    "\n",
    "    train_gen = datagen.flow_from_dataframe(\n",
    "        dataframe=train_df,\n",
    "        x_col='image_path',  # Changed from file_path to image_path\n",
    "        y_col='class',\n",
    "        target_size=target_size,\n",
    "        batch_size=batch_size,\n",
    "        class_mode='categorical'\n",
    "    )\n",
    "\n",
    "    val_gen = datagen.flow_from_dataframe(\n",
    "        dataframe=val_df,\n",
    "        x_col='image_path',  # Changed from file_path to image_path\n",
    "        y_col='class',\n",
    "        target_size=target_size,\n",
    "        batch_size=batch_size,\n",
    "        class_mode='categorical'\n",
    "    )\n",
    "\n",
    "    test_gen = datagen.flow_from_dataframe(\n",
    "        dataframe=test_df,\n",
    "        x_col='image_path',  # Changed from file_path to image_path\n",
    "        y_col='class',\n",
    "        target_size=target_size,\n",
    "        batch_size=batch_size,\n",
    "        class_mode='categorical'\n",
    "    )\n",
    "\n",
    "    return train_gen, val_gen, test_gen\n"
   ]
  },
  {
   "cell_type": "code",
   "execution_count": 47,
   "metadata": {},
   "outputs": [
    {
     "name": "stdout",
     "output_type": "stream",
     "text": [
      "Loading dataset structure...\n",
      "Loaded 7909 images from the dataset.\n"
     ]
    }
   ],
   "source": [
    "# Load the dataset\n",
    "print(\"Loading dataset structure...\")\n",
    "dataset_df = load_dataset_structure(DATASET_DIR)\n",
    "if len(dataset_df) == 0:\n",
    "    print(\"No images were found in the dataset directory. Please check the directory path.\")\n",
    "else:\n",
    "    print(f\"Loaded {len(dataset_df)} images from the dataset.\")\n"
   ]
  },
  {
   "cell_type": "code",
   "execution_count": 48,
   "metadata": {},
   "outputs": [
    {
     "name": "stdout",
     "output_type": "stream",
     "text": [
      "Visualizing class distribution...\n"
     ]
    },
    {
     "data": {
      "image/png": "[encoded data removed]",
      "text/plain": [
       "<Figure size 1000x600 with 1 Axes>"
      ]
     },
     "metadata": {},
     "output_type": "display_data"
    }
   ],
   "source": [
    "# Visualize class distribution\n",
    "print(\"Visualizing class distribution...\")\n",
    "visualize_class_distribution(dataset_df)"
   ]
  },
  {
   "cell_type": "code",
   "execution_count": 49,
   "metadata": {},
   "outputs": [
    {
     "name": "stdout",
     "output_type": "stream",
     "text": [
      "Splitting dataset into training, validation, and testing sets...\n",
      "Training set: 5535 images\n",
      "Validation set: 1187 images\n",
      "Testing set: 1187 images\n"
     ]
    }
   ],
   "source": [
    "# Preprocess and split the dataset\n",
    "print(\"Splitting dataset into training, validation, and testing sets...\")\n",
    "train_df, val_df, test_df = preprocess_and_split(dataset_df)\n",
    "print(f\"Training set: {len(train_df)} images\")\n",
    "print(f\"Validation set: {len(val_df)} images\")\n",
    "print(f\"Testing set: {len(test_df)} images\")"
   ]
  },
  {
   "cell_type": "code",
   "execution_count": 50,
   "metadata": {},
   "outputs": [
    {
     "name": "stdout",
     "output_type": "stream",
     "text": [
      "Columns in train_df: Index(['file_path', 'class'], dtype='object')\n",
      "Columns in val_df: Index(['file_path', 'class'], dtype='object')\n",
      "Columns in test_df: Index(['file_path', 'class'], dtype='object')\n"
     ]
    }
   ],
   "source": [
    "print(f\"Columns in train_df: {train_df.columns}\")\n",
    "print(f\"Columns in val_df: {val_df.columns}\")\n",
    "print(f\"Columns in test_df: {test_df.columns}\")"
   ]
  },
  {
   "cell_type": "code",
   "execution_count": 51,
   "metadata": {},
   "outputs": [
    {
     "name": "stdout",
     "output_type": "stream",
     "text": [
      "Columns in train_df: Index(['file_path', 'class'], dtype='object')\n",
      "Columns in val_df: Index(['file_path', 'class'], dtype='object')\n",
      "Columns in test_df: Index(['file_path', 'class'], dtype='object')\n"
     ]
    }
   ],
   "source": [
    "# Rename image_path to file_path\n",
    "dataset_df.rename(columns={'image_path': 'file_path'}, inplace=True)\n",
    "train_df.rename(columns={'image_path': 'file_path'}, inplace=True)\n",
    "val_df.rename(columns={'image_path': 'file_path'}, inplace=True)\n",
    "test_df.rename(columns={'image_path': 'file_path'}, inplace=True)\n",
    "\n",
    "# Verify the rename worked\n",
    "print(f\"Columns in train_df: {train_df.columns}\")\n",
    "print(f\"Columns in val_df: {val_df.columns}\")\n",
    "print(f\"Columns in test_df: {test_df.columns}\")\n"
   ]
  },
  {
   "cell_type": "code",
   "execution_count": 52,
   "metadata": {},
   "outputs": [
    {
     "name": "stdout",
     "output_type": "stream",
     "text": [
      "Creating data generators...\n",
      "Error in creating data generators: 'image_path'\n"
     ]
    }
   ],
   "source": [
    "# Debugging: Verify generators\n",
    "print(\"Creating data generators...\")\n",
    "try:\n",
    "    train_gen, val_gen, test_gen = create_generators(train_df, val_df, test_df)\n",
    "    print(\"Data generators created successfully.\")\n",
    "except Exception as e:\n",
    "    print(f\"Error in creating data generators: {e}\")\n"
   ]
  },
  {
   "cell_type": "code",
   "execution_count": 67,
   "metadata": {},
   "outputs": [],
   "source": [
    "def create_generators_from_df(train_df, val_df, test_df):\n",
    "    train_datagen = tf.keras.preprocessing.image.ImageDataGenerator(\n",
    "        rescale=1.0 / 255.0,\n",
    "        rotation_range=20,\n",
    "        width_shift_range=0.2,\n",
    "        height_shift_range=0.2,\n",
    "        shear_range=0.2,\n",
    "        zoom_range=0.2,\n",
    "        horizontal_flip=True,\n",
    "        fill_mode='nearest'\n",
    "    )\n",
    "    val_test_datagen = tf.keras.preprocessing.image.ImageDataGenerator(rescale=1.0 / 255.0)\n",
    "\n",
    "    train_gen = train_datagen.flow_from_dataframe(\n",
    "        dataframe=train_df,\n",
    "        x_col='file_path',  # Update to match actual column name\n",
    "        y_col='class',\n",
    "        target_size=IMG_SIZE,\n",
    "        batch_size=BATCH_SIZE,\n",
    "        class_mode='categorical'\n",
    "    )\n",
    "\n",
    "    val_gen = val_test_datagen.flow_from_dataframe(\n",
    "        dataframe=val_df,\n",
    "        x_col='file_path',  # Update to match actual column name\n",
    "        y_col='class',\n",
    "        target_size=IMG_SIZE,\n",
    "        batch_size=BATCH_SIZE,\n",
    "        class_mode='categorical'\n",
    "    )\n",
    "\n",
    "    test_gen = val_test_datagen.flow_from_dataframe(\n",
    "        dataframe=test_df,\n",
    "        x_col='file_path',  # Update to match actual column name\n",
    "        y_col='class',\n",
    "        target_size=IMG_SIZE,\n",
    "        batch_size=BATCH_SIZE,\n",
    "        class_mode='categorical',\n",
    "        shuffle=False\n",
    "    )\n",
    "\n",
    "    return train_gen, val_gen, test_gen\n"
   ]
  },
  {
   "cell_type": "code",
   "execution_count": 54,
   "metadata": {},
   "outputs": [],
   "source": [
    "def build_cnn(input_shape, num_classes):\n",
    "    model = Sequential([\n",
    "        Conv2D(32, (3, 3), activation='relu', input_shape=input_shape),\n",
    "        MaxPooling2D((2, 2)),\n",
    "        Conv2D(64, (3, 3), activation='relu'),\n",
    "        MaxPooling2D((2, 2)),\n",
    "        Conv2D(128, (3, 3), activation='relu'),\n",
    "        MaxPooling2D((2, 2)),\n",
    "        Flatten(),\n",
    "        Dense(128, activation='relu'),\n",
    "        Dropout(0.5),\n",
    "        Dense(num_classes, activation='softmax')\n",
    "    ])\n",
    "    return model"
   ]
  },
  {
   "cell_type": "code",
   "execution_count": 55,
   "metadata": {},
   "outputs": [],
   "source": [
    "def build_resnet50(input_shape, num_classes):\n",
    "    base_model = ResNet50(weights='imagenet', include_top=False, input_shape=input_shape)\n",
    "    base_model.trainable = False  # Freeze base model layers\n",
    "    model = Sequential([\n",
    "        base_model,\n",
    "        GlobalAveragePooling2D(),\n",
    "        Dense(128, activation='relu'),\n",
    "        Dropout(0.5),\n",
    "        Dense(num_classes, activation='softmax')\n",
    "    ])\n",
    "    return model"
   ]
  },
  {
   "cell_type": "code",
   "execution_count": 56,
   "metadata": {},
   "outputs": [],
   "source": [
    "def plot_history(history, title):\n",
    "    plt.plot(history.history['accuracy'], label='Train Accuracy')\n",
    "    plt.plot(history.history['val_accuracy'], label='Val Accuracy')\n",
    "    plt.title(title)\n",
    "    plt.xlabel('Epochs')\n",
    "    plt.ylabel('Accuracy')\n",
    "    plt.legend()\n",
    "    plt.show()"
   ]
  },
  {
   "cell_type": "code",
   "execution_count": 61,
   "metadata": {},
   "outputs": [
    {
     "name": "stdout",
     "output_type": "stream",
     "text": [
      "Columns in train_df: Index(['file_path', 'class'], dtype='object')\n",
      "Columns in val_df: Index(['file_path', 'class'], dtype='object')\n",
      "Columns in test_df: Index(['file_path', 'class'], dtype='object')\n"
     ]
    }
   ],
   "source": [
    "print(\"Columns in train_df:\", train_df.columns)\n",
    "print(\"Columns in val_df:\", val_df.columns)\n",
    "print(\"Columns in test_df:\", test_df.columns)"
   ]
  },
  {
   "cell_type": "code",
   "execution_count": 63,
   "metadata": {},
   "outputs": [
    {
     "name": "stdout",
     "output_type": "stream",
     "text": [
      "                                              file_path class\n",
      "133   BreaKHis_v1/histology_slides/breast\\benign\\SOB...  100X\n",
      "6732  BreaKHis_v1/histology_slides/breast\\malignant\\...  100X\n",
      "5938  BreaKHis_v1/histology_slides/breast\\malignant\\...  100X\n",
      "3993  BreaKHis_v1/histology_slides/breast\\malignant\\...  200X\n",
      "254   BreaKHis_v1/histology_slides/breast\\benign\\SOB...  100X\n",
      "                                              file_path class\n",
      "7206  BreaKHis_v1/histology_slides/breast\\malignant\\...  100X\n",
      "3568  BreaKHis_v1/histology_slides/breast\\malignant\\...   40X\n",
      "6815  BreaKHis_v1/histology_slides/breast\\malignant\\...   40X\n",
      "5355  BreaKHis_v1/histology_slides/breast\\malignant\\...  400X\n",
      "1809  BreaKHis_v1/histology_slides/breast\\benign\\SOB...  400X\n",
      "                                              file_path class\n",
      "5759  BreaKHis_v1/histology_slides/breast\\malignant\\...  400X\n",
      "6501  BreaKHis_v1/histology_slides/breast\\malignant\\...  200X\n",
      "3848  BreaKHis_v1/histology_slides/breast\\malignant\\...   40X\n",
      "2131  BreaKHis_v1/histology_slides/breast\\benign\\SOB...   40X\n",
      "2098  BreaKHis_v1/histology_slides/breast\\benign\\SOB...  400X\n"
     ]
    }
   ],
   "source": [
    "print(train_df.head())\n",
    "print(val_df.head())\n",
    "print(test_df.head())"
   ]
  },
  {
   "cell_type": "code",
   "execution_count": 68,
   "metadata": {},
   "outputs": [
    {
     "name": "stdout",
     "output_type": "stream",
     "text": [
      "Found 5535 validated image filenames belonging to 4 classes.\n",
      "Found 1187 validated image filenames belonging to 4 classes.\n",
      "Found 1187 validated image filenames belonging to 4 classes.\n"
     ]
    }
   ],
   "source": [
    "train_gen, val_gen, test_gen = create_generators_from_df(train_df, val_df, test_df)"
   ]
  },
  {
   "cell_type": "code",
   "execution_count": 69,
   "metadata": {},
   "outputs": [
    {
     "ename": "AttributeError",
     "evalue": "'DataFrameIterator' object has no attribute 'num_classes'",
     "output_type": "error",
     "traceback": [
      "\u001b[1;31m---------------------------------------------------------------------------\u001b[0m",
      "\u001b[1;31mAttributeError\u001b[0m                            Traceback (most recent call last)",
      "Cell \u001b[1;32mIn[69], line 2\u001b[0m\n\u001b[0;32m      1\u001b[0m \u001b[38;5;66;03m# Compile and Train CNN\u001b[39;00m\n\u001b[1;32m----> 2\u001b[0m cnn_model \u001b[38;5;241m=\u001b[39m build_cnn((IMG_SIZE[\u001b[38;5;241m0\u001b[39m], IMG_SIZE[\u001b[38;5;241m1\u001b[39m], \u001b[38;5;241m3\u001b[39m), \u001b[43mtrain_gen\u001b[49m\u001b[38;5;241;43m.\u001b[39;49m\u001b[43mnum_classes\u001b[49m)\n\u001b[0;32m      3\u001b[0m cnn_model\u001b[38;5;241m.\u001b[39mcompile(optimizer\u001b[38;5;241m=\u001b[39mAdam(learning_rate\u001b[38;5;241m=\u001b[39m\u001b[38;5;241m0.001\u001b[39m), loss\u001b[38;5;241m=\u001b[39m\u001b[38;5;124m'\u001b[39m\u001b[38;5;124mcategorical_crossentropy\u001b[39m\u001b[38;5;124m'\u001b[39m, metrics\u001b[38;5;241m=\u001b[39m[\u001b[38;5;124m'\u001b[39m\u001b[38;5;124maccuracy\u001b[39m\u001b[38;5;124m'\u001b[39m])\n\u001b[0;32m      5\u001b[0m \u001b[38;5;28mprint\u001b[39m(\u001b[38;5;124m\"\u001b[39m\u001b[38;5;124mTraining CNN from scratch...\u001b[39m\u001b[38;5;124m\"\u001b[39m)\n",
      "\u001b[1;31mAttributeError\u001b[0m: 'DataFrameIterator' object has no attribute 'num_classes'"
     ]
    }
   ],
   "source": [
    "# Compile and Train CNN\n",
    "cnn_model = build_cnn((IMG_SIZE[0], IMG_SIZE[1], 3), train_gen.class_indices)\n",
    "cnn_model.compile(optimizer=Adam(learning_rate=0.001), loss='categorical_crossentropy', metrics=['accuracy'])\n",
    "\n",
    "print(\"Training CNN from scratch...\")\n",
    "history_cnn = cnn_model.fit(train_gen, validation_data=val_gen, epochs=10, verbose=1)\n",
    "\n",
    "# Evaluate CNN\n",
    "print(\"Evaluating CNN...\")\n",
    "cnn_loss, cnn_acc = cnn_model.evaluate(test_gen, verbose=1)\n",
    "print(f\"CNN Test Accuracy: {cnn_acc:.4f}\")"
   ]
  },
  {
   "cell_type": "code",
   "execution_count": null,
   "metadata": {},
   "outputs": [],
   "source": [
    "# Compile and Train ResNet50\n",
    "resnet50_model = build_resnet50((IMG_SIZE[0], IMG_SIZE[1], 3), train_gen.num_classes)\n",
    "resnet50_model.compile(optimizer=Adam(learning_rate=0.0001), loss='categorical_crossentropy', metrics=['accuracy'])\n",
    "\n",
    "print(\"Training ResNet50 model...\")\n",
    "history_resnet = resnet50_model.fit(train_gen, validation_data=val_gen, epochs=10, verbose=1)\n",
    "\n",
    "# Fine-tune ResNet50\n",
    "print(\"Fine-tuning ResNet50...\")\n",
    "resnet50_model.layers[0].trainable = True  # Unfreeze base model\n",
    "resnet50_model.compile(optimizer=Adam(learning_rate=0.00001), loss='categorical_crossentropy', metrics=['accuracy'])\n",
    "history_resnet_ft = resnet50_model.fit(train_gen, validation_data=val_gen, epochs=5, verbose=1)"
   ]
  },
  {
   "cell_type": "code",
   "execution_count": null,
   "metadata": {},
   "outputs": [],
   "source": [
    "# Evaluate ResNet50\n",
    "print(\"Evaluating ResNet50...\")\n",
    "resnet_loss, resnet_acc = resnet50_model.evaluate(test_gen, verbose=1)\n",
    "print(f\"ResNet50 Test Accuracy: {resnet_acc:.4f}\")\n",
    "\n",
    "# Generate classification report\n",
    "test_gen.reset()\n",
    "y_true = test_gen.classes\n",
    "y_pred_cnn = cnn_model.predict(test_gen)\n",
    "y_pred_resnet = resnet50_model.predict(test_gen)\n",
    "\n",
    "print(\"CNN Classification Report:\")\n",
    "print(classification_report(y_true, y_pred_cnn.argmax(axis=1), target_names=list(test_gen.class_indices.keys())))\n",
    "\n",
    "print(\"ResNet50 Classification Report:\")\n",
    "print(classification_report(y_true, y_pred_resnet.argmax(axis=1), target_names=list(test_gen.class_indices.keys())))\n",
    "\n",
    "# Compute AUC-ROC\n",
    "print(\"AUC-ROC Scores:\")\n",
    "cnn_auc = roc_auc_score(y_true, y_pred_cnn, multi_class='ovr')\n",
    "resnet_auc = roc_auc_score(y_true, y_pred_resnet, multi_class='ovr')\n",
    "print(f\"CNN AUC-ROC: {cnn_auc:.4f}\")\n",
    "print(f\"ResNet50 AUC-ROC: {resnet_auc:.4f}\")\n",
    "\n",
    "plot_history(history_cnn, \"CNN Training History\")\n",
    "plot_history(history_resnet, \"ResNet50 Training History\")\n",
    "plot_history(history_resnet_ft, \"ResNet50 Fine-Tuning History\")\n"
   ]
  }
 ],
 "metadata": {
  "kernelspec": {
   "display_name": "Python 3",
   "language": "python",
   "name": "python3"
  },
  "language_info": {
   "codemirror_mode": {
    "name": "ipython",
    "version": 3
   },
   "file_extension": ".py",
   "mimetype": "text/x-python",
   "name": "python",
   "nbconvert_exporter": "python",
   "pygments_lexer": "ipython3",
   "version": "3.12.0"
  }
 },
 "nbformat": 4,
 "nbformat_minor": 2
}
