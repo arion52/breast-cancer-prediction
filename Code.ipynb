{
 "cells": [
  {
   "cell_type": "code",
   "execution_count": 36,
   "metadata": {},
   "outputs": [],
   "source": [
    "import os\n",
    "import pandas as pd\n",
    "from sklearn.model_selection import train_test_split\n",
    "import matplotlib.pyplot as plt\n",
    "from tensorflow.keras.preprocessing.image import ImageDataGenerator\n",
    "import tensorflow as tf\n",
    "from tensorflow.keras.models import Sequential\n",
    "from tensorflow.keras.layers import Conv2D, MaxPooling2D, Flatten, Dense, Dropout, GlobalAveragePooling2D\n",
    "from tensorflow.keras.applications import ResNet50\n",
    "from tensorflow.keras.optimizers import Adam\n",
    "from tensorflow.keras.callbacks import EarlyStopping\n",
    "from sklearn.metrics import classification_report, roc_auc_score"
   ]
  },
  {
   "cell_type": "code",
   "execution_count": 2,
   "metadata": {},
   "outputs": [],
   "source": [
    "DATASET_DIR = \"BreaKHis_v1/histology_slides/breast\"\n",
    "MAGNIFICATIONS = [\"40X\", \"100X\", \"200X\", \"400X\"]"
   ]
  },
  {
   "cell_type": "code",
   "execution_count": 3,
   "metadata": {},
   "outputs": [],
   "source": [
    "# Dataset generators\n",
    "IMG_SIZE = (128, 128)  # Change to (224, 224) for ResNet50\n",
    "BATCH_SIZE = 32"
   ]
  },
  {
   "cell_type": "code",
   "execution_count": 4,
   "metadata": {},
   "outputs": [],
   "source": [
    "def load_dataset_structure(dataset_dir):\n",
    "    \"\"\"\n",
    "    Load the dataset structure, accommodating multi-level subfolders.\n",
    "    Args:\n",
    "        dataset_dir (str): The path to the dataset directory.\n",
    "    Returns:\n",
    "        pd.DataFrame: A DataFrame containing metadata about the dataset.\n",
    "    \"\"\"\n",
    "    data = []\n",
    "    # Traverse all subdirectories\n",
    "    for root, dirs, files in os.walk(dataset_dir):\n",
    "        for file in files:\n",
    "            if file.endswith((\".png\", \".jpg\", \".jpeg\", \".tif\")):  # Include valid image formats\n",
    "                file_path = os.path.join(root, file)\n",
    "                # Extract class and subtype from folder hierarchy\n",
    "                class_name = os.path.basename(os.path.dirname(os.path.dirname(file_path)))\n",
    "                subtype = os.path.basename(os.path.dirname(file_path))\n",
    "                data.append({\"image_path\": file_path, \"class\": class_name, \"subtype\": subtype})\n",
    "\n",
    "    # Convert to DataFrame\n",
    "    return pd.DataFrame(data)\n"
   ]
  },
  {
   "cell_type": "code",
   "execution_count": 5,
   "metadata": {},
   "outputs": [],
   "source": [
    "def load_dataset_structure(dataset_dir):\n",
    "    data = []\n",
    "    for root, dirs, files in os.walk(dataset_dir):\n",
    "        for file in files:\n",
    "            if file.endswith(('.jpg', '.png', '.jpeg')):  # Add more extensions if needed\n",
    "                class_label = os.path.basename(root)  # Parent folder name as class\n",
    "                file_path = os.path.join(root, file)\n",
    "                data.append({'file_path': file_path, 'class': class_label})\n",
    "    return pd.DataFrame(data)"
   ]
  },
  {
   "cell_type": "code",
   "execution_count": 6,
   "metadata": {},
   "outputs": [],
   "source": [
    "def visualize_class_distribution(dataset_df):\n",
    "    \"\"\"\n",
    "    Visualize the distribution of classes in the dataset.\n",
    "    Args:\n",
    "        dataset_df (pd.DataFrame): The dataset DataFrame.\n",
    "    \"\"\"\n",
    "    # Use 'class' instead of 'category'\n",
    "    class_counts = dataset_df['class'].value_counts()\n",
    "    plt.figure(figsize=(10, 6))\n",
    "    class_counts.plot(kind='bar', color='skyblue')\n",
    "    plt.title('Class Distribution')\n",
    "    plt.xlabel('Class')\n",
    "    plt.ylabel('Number of Images')\n",
    "    plt.xticks(rotation=45)\n",
    "    plt.show()\n"
   ]
  },
  {
   "cell_type": "code",
   "execution_count": 7,
   "metadata": {},
   "outputs": [],
   "source": [
    "def preprocess_and_split(dataset_df, test_size=0.15, val_size=0.15):\n",
    "    \"\"\"\n",
    "    Split the dataset into training, validation, and test sets.\n",
    "    Args:\n",
    "        dataset_df (pd.DataFrame): The dataset DataFrame.\n",
    "        test_size (float): Fraction of data for the test set.\n",
    "        val_size (float): Fraction of data for the validation set.\n",
    "    Returns:\n",
    "        train_df, val_df, test_df: DataFrames for training, validation, and testing.\n",
    "    \"\"\"\n",
    "    # Use 'class' instead of 'category'\n",
    "    train_val_df, test_df = train_test_split(dataset_df, test_size=test_size, stratify=dataset_df['class'], random_state=42)\n",
    "    train_df, val_df = train_test_split(train_val_df, test_size=val_size / (1 - test_size), stratify=train_val_df['class'], random_state=42)\n",
    "    return train_df, val_df, test_df"
   ]
  },
  {
   "cell_type": "code",
   "execution_count": 8,
   "metadata": {},
   "outputs": [],
   "source": [
    "def create_generators(train_df, val_df, test_df, target_size=(224, 224), batch_size=32):\n",
    "    \"\"\"\n",
    "    Create data generators for training, validation, and testing.\n",
    "    Args:\n",
    "        train_df (pd.DataFrame): Training DataFrame.\n",
    "        val_df (pd.DataFrame): Validation DataFrame.\n",
    "        test_df (pd.DataFrame): Testing DataFrame.\n",
    "        target_size (tuple): Target size for image resizing.\n",
    "        batch_size (int): Batch size for generators.\n",
    "    Returns:\n",
    "        train_gen, val_gen, test_gen: Data generators for training, validation, and testing.\n",
    "    \"\"\"\n",
    "    datagen = ImageDataGenerator(rescale=1.0 / 255)\n",
    "\n",
    "    train_gen = datagen.flow_from_dataframe(\n",
    "        dataframe=train_df,\n",
    "        x_col='image_path',  # Changed from file_path to image_path\n",
    "        y_col='class',\n",
    "        target_size=target_size,\n",
    "        batch_size=batch_size,\n",
    "        class_mode='categorical'\n",
    "    )\n",
    "\n",
    "    val_gen = datagen.flow_from_dataframe(\n",
    "        dataframe=val_df,\n",
    "        x_col='image_path',  # Changed from file_path to image_path\n",
    "        y_col='class',\n",
    "        target_size=target_size,\n",
    "        batch_size=batch_size,\n",
    "        class_mode='categorical'\n",
    "    )\n",
    "\n",
    "    test_gen = datagen.flow_from_dataframe(\n",
    "        dataframe=test_df,\n",
    "        x_col='image_path',  # Changed from file_path to image_path\n",
    "        y_col='class',\n",
    "        target_size=target_size,\n",
    "        batch_size=batch_size,\n",
    "        class_mode='categorical'\n",
    "    )\n",
    "\n",
    "    return train_gen, val_gen, test_gen\n"
   ]
  },
  {
   "cell_type": "code",
   "execution_count": 9,
   "metadata": {},
   "outputs": [
    {
     "name": "stdout",
     "output_type": "stream",
     "text": [
      "Loading dataset structure...\n",
      "Loaded 7909 images from the dataset.\n"
     ]
    }
   ],
   "source": [
    "# Load the dataset\n",
    "print(\"Loading dataset structure...\")\n",
    "dataset_df = load_dataset_structure(DATASET_DIR)\n",
    "if len(dataset_df) == 0:\n",
    "    print(\"No images were found in the dataset directory. Please check the directory path.\")\n",
    "else:\n",
    "    print(f\"Loaded {len(dataset_df)} images from the dataset.\")\n"
   ]
  },
  {
   "cell_type": "code",
   "execution_count": 10,
   "metadata": {},
   "outputs": [
    {
     "name": "stdout",
     "output_type": "stream",
     "text": [
      "Visualizing class distribution...\n"
     ]
    },
    {
     "data": {
      "image/png": "[encoded data removed]",
      "text/plain": [
       "<Figure size 1000x600 with 1 Axes>"
      ]
     },
     "metadata": {},
     "output_type": "display_data"
    }
   ],
   "source": [
    "# Visualize class distribution\n",
    "print(\"Visualizing class distribution...\")\n",
    "visualize_class_distribution(dataset_df)"
   ]
  },
  {
   "cell_type": "code",
   "execution_count": 11,
   "metadata": {},
   "outputs": [
    {
     "name": "stdout",
     "output_type": "stream",
     "text": [
      "Splitting dataset into training, validation, and testing sets...\n",
      "Training set: 5535 images\n",
      "Validation set: 1187 images\n",
      "Testing set: 1187 images\n"
     ]
    }
   ],
   "source": [
    "# Preprocess and split the dataset\n",
    "print(\"Splitting dataset into training, validation, and testing sets...\")\n",
    "train_df, val_df, test_df = preprocess_and_split(dataset_df)\n",
    "print(f\"Training set: {len(train_df)} images\")\n",
    "print(f\"Validation set: {len(val_df)} images\")\n",
    "print(f\"Testing set: {len(test_df)} images\")"
   ]
  },
  {
   "cell_type": "code",
   "execution_count": 12,
   "metadata": {},
   "outputs": [
    {
     "name": "stdout",
     "output_type": "stream",
     "text": [
      "Columns in train_df: Index(['file_path', 'class'], dtype='object')\n",
      "Columns in val_df: Index(['file_path', 'class'], dtype='object')\n",
      "Columns in test_df: Index(['file_path', 'class'], dtype='object')\n"
     ]
    }
   ],
   "source": [
    "print(f\"Columns in train_df: {train_df.columns}\")\n",
    "print(f\"Columns in val_df: {val_df.columns}\")\n",
    "print(f\"Columns in test_df: {test_df.columns}\")"
   ]
  },
  {
   "cell_type": "code",
   "execution_count": 13,
   "metadata": {},
   "outputs": [
    {
     "name": "stdout",
     "output_type": "stream",
     "text": [
      "Columns in train_df: Index(['file_path', 'class'], dtype='object')\n",
      "Columns in val_df: Index(['file_path', 'class'], dtype='object')\n",
      "Columns in test_df: Index(['file_path', 'class'], dtype='object')\n"
     ]
    }
   ],
   "source": [
    "# Rename image_path to file_path\n",
    "dataset_df.rename(columns={'image_path': 'file_path'}, inplace=True)\n",
    "train_df.rename(columns={'image_path': 'file_path'}, inplace=True)\n",
    "val_df.rename(columns={'image_path': 'file_path'}, inplace=True)\n",
    "test_df.rename(columns={'image_path': 'file_path'}, inplace=True)\n",
    "\n",
    "# Verify the rename worked\n",
    "print(f\"Columns in train_df: {train_df.columns}\")\n",
    "print(f\"Columns in val_df: {val_df.columns}\")\n",
    "print(f\"Columns in test_df: {test_df.columns}\")\n"
   ]
  },
  {
   "cell_type": "code",
   "execution_count": 23,
   "metadata": {},
   "outputs": [],
   "source": [
    "def create_generators_from_df(train_df, val_df, test_df):\n",
    "    train_datagen = tf.keras.preprocessing.image.ImageDataGenerator(\n",
    "        rescale=1.0 / 255.0,\n",
    "        rotation_range=20,\n",
    "        width_shift_range=0.2,\n",
    "        height_shift_range=0.2,\n",
    "        shear_range=0.2,\n",
    "        zoom_range=0.2,\n",
    "        horizontal_flip=True,\n",
    "        fill_mode='nearest'\n",
    "    )\n",
    "    val_test_datagen = tf.keras.preprocessing.image.ImageDataGenerator(rescale=1.0 / 255.0)\n",
    "\n",
    "    train_gen = train_datagen.flow_from_dataframe(\n",
    "        dataframe=train_df,\n",
    "        x_col='file_path',  # Update to match actual column name\n",
    "        y_col='class',\n",
    "        target_size=IMG_SIZE,\n",
    "        batch_size=BATCH_SIZE,\n",
    "        class_mode='categorical'\n",
    "    )\n",
    "\n",
    "    val_gen = val_test_datagen.flow_from_dataframe(\n",
    "        dataframe=val_df,\n",
    "        x_col='file_path',  # Update to match actual column name\n",
    "        y_col='class',\n",
    "        target_size=IMG_SIZE,\n",
    "        batch_size=BATCH_SIZE,\n",
    "        class_mode='categorical'\n",
    "    )\n",
    "\n",
    "    test_gen = val_test_datagen.flow_from_dataframe(\n",
    "        dataframe=test_df,\n",
    "        x_col='file_path',  # Update to match actual column name\n",
    "        y_col='class',\n",
    "        target_size=IMG_SIZE,\n",
    "        batch_size=BATCH_SIZE,\n",
    "        class_mode='categorical',\n",
    "        shuffle=False\n",
    "    )\n",
    "\n",
    "    return train_gen, val_gen, test_gen\n"
   ]
  },
  {
   "cell_type": "code",
   "execution_count": 24,
   "metadata": {},
   "outputs": [
    {
     "name": "stdout",
     "output_type": "stream",
     "text": [
      "Creating data generators...\n",
      "Found 5535 validated image filenames belonging to 4 classes.\n",
      "Found 1187 validated image filenames belonging to 4 classes.\n",
      "Found 1187 validated image filenames belonging to 4 classes.\n",
      "Data generators created successfully.\n",
      "Number of training samples: 5535\n",
      "Number of validation samples: 1187\n",
      "Number of test samples: 1187\n"
     ]
    }
   ],
   "source": [
    "# Debugging: Verify generators after renaming\n",
    "print(\"Creating data generators...\")\n",
    "try:\n",
    "    train_gen, val_gen, test_gen = create_generators_from_df(train_df, val_df, test_df)\n",
    "    print(\"Data generators created successfully.\")\n",
    "except Exception as e:\n",
    "    print(f\"Error in creating data generators: {e}\")\n",
    "\n",
    "# Verify generator details\n",
    "print(f\"Number of training samples: {train_gen.samples}\")\n",
    "print(f\"Number of validation samples: {val_gen.samples}\")\n",
    "print(f\"Number of test samples: {test_gen.samples}\")\n"
   ]
  },
  {
   "cell_type": "code",
   "execution_count": 19,
   "metadata": {},
   "outputs": [
    {
     "name": "stdout",
     "output_type": "stream",
     "text": [
      "Columns in train_df: Index(['file_path', 'class'], dtype='object')\n",
      "Columns in val_df: Index(['file_path', 'class'], dtype='object')\n",
      "Columns in test_df: Index(['file_path', 'class'], dtype='object')\n"
     ]
    }
   ],
   "source": [
    "print(\"Columns in train_df:\", train_df.columns)\n",
    "print(\"Columns in val_df:\", val_df.columns)\n",
    "print(\"Columns in test_df:\", test_df.columns)"
   ]
  },
  {
   "cell_type": "code",
   "execution_count": 20,
   "metadata": {},
   "outputs": [
    {
     "name": "stdout",
     "output_type": "stream",
     "text": [
      "                                              file_path class\n",
      "133   BreaKHis_v1/histology_slides/breast\\benign\\SOB...  100X\n",
      "6732  BreaKHis_v1/histology_slides/breast\\malignant\\...  100X\n",
      "5938  BreaKHis_v1/histology_slides/breast\\malignant\\...  100X\n",
      "3993  BreaKHis_v1/histology_slides/breast\\malignant\\...  200X\n",
      "254   BreaKHis_v1/histology_slides/breast\\benign\\SOB...  100X\n",
      "                                              file_path class\n",
      "7206  BreaKHis_v1/histology_slides/breast\\malignant\\...  100X\n",
      "3568  BreaKHis_v1/histology_slides/breast\\malignant\\...   40X\n",
      "6815  BreaKHis_v1/histology_slides/breast\\malignant\\...   40X\n",
      "5355  BreaKHis_v1/histology_slides/breast\\malignant\\...  400X\n",
      "1809  BreaKHis_v1/histology_slides/breast\\benign\\SOB...  400X\n",
      "                                              file_path class\n",
      "5759  BreaKHis_v1/histology_slides/breast\\malignant\\...  400X\n",
      "6501  BreaKHis_v1/histology_slides/breast\\malignant\\...  200X\n",
      "3848  BreaKHis_v1/histology_slides/breast\\malignant\\...   40X\n",
      "2131  BreaKHis_v1/histology_slides/breast\\benign\\SOB...   40X\n",
      "2098  BreaKHis_v1/histology_slides/breast\\benign\\SOB...  400X\n"
     ]
    }
   ],
   "source": [
    "print(train_df.head())\n",
    "print(val_df.head())\n",
    "print(test_df.head())"
   ]
  },
  {
   "cell_type": "code",
   "execution_count": 21,
   "metadata": {},
   "outputs": [
    {
     "name": "stdout",
     "output_type": "stream",
     "text": [
      "Found 5535 validated image filenames belonging to 4 classes.\n",
      "Found 1187 validated image filenames belonging to 4 classes.\n",
      "Found 1187 validated image filenames belonging to 4 classes.\n"
     ]
    }
   ],
   "source": [
    "train_gen, val_gen, test_gen = create_generators_from_df(train_df, val_df, test_df)"
   ]
  },
  {
   "cell_type": "code",
   "execution_count": 27,
   "metadata": {},
   "outputs": [],
   "source": [
    "def build_cnn(input_shape, num_classes):\n",
    "\n",
    "    model = Sequential([\n",
    "        Conv2D(32, (3, 3), activation='relu', input_shape=input_shape),\n",
    "        MaxPooling2D((2, 2)),\n",
    "        Conv2D(64, (3, 3), activation='relu'),\n",
    "        MaxPooling2D((2, 2)),\n",
    "        Conv2D(128, (3, 3), activation='relu'),\n",
    "        MaxPooling2D((2, 2)),\n",
    "        Flatten(),\n",
    "        Dense(128, activation='relu'),\n",
    "        Dropout(0.5),\n",
    "        Dense(num_classes, activation='softmax')\n",
    "    ])\n",
    "\n",
    "    model.compile(\n",
    "        optimizer='adam',\n",
    "        loss='categorical_crossentropy',\n",
    "        metrics=['accuracy']\n",
    "    )\n",
    "    return model\n"
   ]
  },
  {
   "cell_type": "code",
   "execution_count": null,
   "metadata": {},
   "outputs": [
    {
     "name": "stderr",
     "output_type": "stream",
     "text": [
      "c:\\Users\\barga\\AppData\\Local\\Programs\\Python\\Python312\\Lib\\site-packages\\keras\\src\\layers\\convolutional\\base_conv.py:107: UserWarning: Do not pass an `input_shape`/`input_dim` argument to a layer. When using Sequential models, prefer using an `Input(shape)` object as the first layer in the model instead.\n",
      "  super().__init__(activity_regularizer=activity_regularizer, **kwargs)\n",
      "c:\\Users\\barga\\AppData\\Local\\Programs\\Python\\Python312\\Lib\\site-packages\\keras\\src\\trainers\\data_adapters\\py_dataset_adapter.py:121: UserWarning: Your `PyDataset` class should call `super().__init__(**kwargs)` in its constructor. `**kwargs` can include `workers`, `use_multiprocessing`, `max_queue_size`. Do not pass these arguments to `fit()`, as they will be ignored.\n",
      "  self._warn_if_super_not_called()\n"
     ]
    },
    {
     "name": "stdout",
     "output_type": "stream",
     "text": [
      "Training CNN from scratch...\n",
      "Epoch 1/10\n",
      "\u001b[1m173/173\u001b[0m \u001b[32m━━━━━━━━━━━━━━━━━━━━\u001b[0m\u001b[37m\u001b[0m \u001b[1m161s\u001b[0m 924ms/step - accuracy: 0.2614 - loss: 1.4678 - val_accuracy: 0.2637 - val_loss: 1.3852\n",
      "Epoch 2/10\n",
      "\u001b[1m173/173\u001b[0m \u001b[32m━━━━━━━━━━━━━━━━━━━━\u001b[0m\u001b[37m\u001b[0m \u001b[1m82s\u001b[0m 472ms/step - accuracy: 0.2638 - loss: 1.3854 - val_accuracy: 0.2637 - val_loss: 1.3851\n",
      "Epoch 3/10\n",
      "\u001b[1m173/173\u001b[0m \u001b[32m━━━━━━━━━━━━━━━━━━━━\u001b[0m\u001b[37m\u001b[0m \u001b[1m115s\u001b[0m 665ms/step - accuracy: 0.2691 - loss: 1.3850 - val_accuracy: 0.2637 - val_loss: 1.3851\n",
      "Epoch 4/10\n",
      "\u001b[1m173/173\u001b[0m \u001b[32m━━━━━━━━━━━━━━━━━━━━\u001b[0m\u001b[37m\u001b[0m \u001b[1m118s\u001b[0m 681ms/step - accuracy: 0.2473 - loss: 1.3864 - val_accuracy: 0.2637 - val_loss: 1.3851\n",
      "Epoch 5/10\n",
      "\u001b[1m173/173\u001b[0m \u001b[32m━━━━━━━━━━━━━━━━━━━━\u001b[0m\u001b[37m\u001b[0m \u001b[1m115s\u001b[0m 667ms/step - accuracy: 0.2591 - loss: 1.3854 - val_accuracy: 0.2637 - val_loss: 1.3851\n",
      "Epoch 6/10\n",
      "\u001b[1m173/173\u001b[0m \u001b[32m━━━━━━━━━━━━━━━━━━━━\u001b[0m\u001b[37m\u001b[0m \u001b[1m99s\u001b[0m 570ms/step - accuracy: 0.2610 - loss: 1.3852 - val_accuracy: 0.2637 - val_loss: 1.3851\n",
      "Epoch 7/10\n",
      "\u001b[1m173/173\u001b[0m \u001b[32m━━━━━━━━━━━━━━━━━━━━\u001b[0m\u001b[37m\u001b[0m \u001b[1m95s\u001b[0m 549ms/step - accuracy: 0.2604 - loss: 1.3857 - val_accuracy: 0.2637 - val_loss: 1.3850\n",
      "Epoch 8/10\n",
      "\u001b[1m173/173\u001b[0m \u001b[32m━━━━━━━━━━━━━━━━━━━━\u001b[0m\u001b[37m\u001b[0m \u001b[1m93s\u001b[0m 537ms/step - accuracy: 0.2565 - loss: 1.3862 - val_accuracy: 0.2637 - val_loss: 1.3852\n",
      "Epoch 9/10\n",
      "\u001b[1m173/173\u001b[0m \u001b[32m━━━━━━━━━━━━━━━━━━━━\u001b[0m\u001b[37m\u001b[0m \u001b[1m92s\u001b[0m 532ms/step - accuracy: 0.2522 - loss: 1.3923 - val_accuracy: 0.2637 - val_loss: 1.3853\n",
      "Epoch 10/10\n",
      "\u001b[1m173/173\u001b[0m \u001b[32m━━━━━━━━━━━━━━━━━━━━\u001b[0m\u001b[37m\u001b[0m \u001b[1m95s\u001b[0m 548ms/step - accuracy: 0.2653 - loss: 1.3858 - val_accuracy: 0.2637 - val_loss: 1.3851\n",
      "Evaluating CNN...\n",
      "\u001b[1m38/38\u001b[0m \u001b[32m━━━━━━━━━━━━━━━━━━━━\u001b[0m\u001b[37m\u001b[0m \u001b[1m23s\u001b[0m 610ms/step - accuracy: 0.2598 - loss: 1.3852\n",
      "CNN Test Accuracy: 0.2628\n"
     ]
    }
   ],
   "source": [
    "# Compile and Train CNN\n",
    "cnn_model = build_cnn((IMG_SIZE[0], IMG_SIZE[1], 3), len(train_gen.class_indices))\n",
    "cnn_model.compile(optimizer=Adam(learning_rate=0.001), loss='categorical_crossentropy', metrics=['accuracy'])\n",
    "\n",
    "print(\"Training CNN from scratch...\")\n",
    "early_stopping = EarlyStopping(monitor='val_loss', patience=10, restore_best_weights=True)\n",
    "history_cnn = cnn_model.fit(train_gen, validation_data=val_gen, epochs=100, verbose=1, callbacks=[early_stopping])\n",
    "\n",
    "# Evaluate CNN\n",
    "print(\"Evaluating CNN...\")\n",
    "cnn_loss, cnn_acc = cnn_model.evaluate(test_gen, verbose=1)\n",
    "print(f\"CNN Test Accuracy: {cnn_acc:.4f}\")"
   ]
  },
  {
   "cell_type": "code",
   "execution_count": 25,
   "metadata": {},
   "outputs": [],
   "source": [
    "def build_resnet50(input_shape, num_classes):\n",
    "    base_model = ResNet50(weights='imagenet', include_top=False, input_shape=input_shape)\n",
    "    base_model.trainable = False  # Freeze base model layers\n",
    "    model = Sequential([\n",
    "        base_model,\n",
    "        GlobalAveragePooling2D(),\n",
    "        Dense(128, activation='relu'),\n",
    "        Dropout(0.5),\n",
    "        Dense(num_classes, activation='softmax')\n",
    "    ])\n",
    "    return model"
   ]
  },
  {
   "cell_type": "code",
   "execution_count": 32,
   "metadata": {},
   "outputs": [
    {
     "name": "stdout",
     "output_type": "stream",
     "text": [
      "Training ResNet50 model...\n",
      "Epoch 1/10\n",
      "\u001b[1m173/173\u001b[0m \u001b[32m━━━━━━━━━━━━━━━━━━━━\u001b[0m\u001b[37m\u001b[0m \u001b[1m162s\u001b[0m 915ms/step - accuracy: 0.2545 - loss: 1.5030 - val_accuracy: 0.3505 - val_loss: 1.3728\n",
      "Epoch 2/10\n",
      "\u001b[1m173/173\u001b[0m \u001b[32m━━━━━━━━━━━━━━━━━━━━\u001b[0m\u001b[37m\u001b[0m \u001b[1m153s\u001b[0m 883ms/step - accuracy: 0.2545 - loss: 1.4279 - val_accuracy: 0.2890 - val_loss: 1.3629\n",
      "Epoch 3/10\n",
      "\u001b[1m173/173\u001b[0m \u001b[32m━━━━━━━━━━━━━━━━━━━━\u001b[0m\u001b[37m\u001b[0m \u001b[1m165s\u001b[0m 955ms/step - accuracy: 0.2852 - loss: 1.3881 - val_accuracy: 0.3665 - val_loss: 1.3517\n",
      "Epoch 4/10\n",
      "\u001b[1m173/173\u001b[0m \u001b[32m━━━━━━━━━━━━━━━━━━━━\u001b[0m\u001b[37m\u001b[0m \u001b[1m142s\u001b[0m 821ms/step - accuracy: 0.3087 - loss: 1.3639 - val_accuracy: 0.3606 - val_loss: 1.3434\n",
      "Epoch 5/10\n",
      "\u001b[1m173/173\u001b[0m \u001b[32m━━━━━━━━━━━━━━━━━━━━\u001b[0m\u001b[37m\u001b[0m \u001b[1m149s\u001b[0m 861ms/step - accuracy: 0.3299 - loss: 1.3504 - val_accuracy: 0.3926 - val_loss: 1.3337\n",
      "Epoch 6/10\n",
      "\u001b[1m173/173\u001b[0m \u001b[32m━━━━━━━━━━━━━━━━━━━━\u001b[0m\u001b[37m\u001b[0m \u001b[1m161s\u001b[0m 932ms/step - accuracy: 0.3510 - loss: 1.3401 - val_accuracy: 0.4128 - val_loss: 1.3245\n",
      "Epoch 7/10\n",
      "\u001b[1m173/173\u001b[0m \u001b[32m━━━━━━━━━━━━━━━━━━━━\u001b[0m\u001b[37m\u001b[0m \u001b[1m160s\u001b[0m 925ms/step - accuracy: 0.3611 - loss: 1.3316 - val_accuracy: 0.4313 - val_loss: 1.3135\n",
      "Epoch 8/10\n",
      "\u001b[1m173/173\u001b[0m \u001b[32m━━━━━━━━━━━━━━━━━━━━\u001b[0m\u001b[37m\u001b[0m \u001b[1m128s\u001b[0m 740ms/step - accuracy: 0.3707 - loss: 1.3186 - val_accuracy: 0.4398 - val_loss: 1.3036\n",
      "Epoch 9/10\n",
      "\u001b[1m173/173\u001b[0m \u001b[32m━━━━━━━━━━━━━━━━━━━━\u001b[0m\u001b[37m\u001b[0m \u001b[1m152s\u001b[0m 880ms/step - accuracy: 0.3808 - loss: 1.3131 - val_accuracy: 0.4457 - val_loss: 1.2952\n",
      "Epoch 10/10\n",
      "\u001b[1m173/173\u001b[0m \u001b[32m━━━━━━━━━━━━━━━━━━━━\u001b[0m\u001b[37m\u001b[0m \u001b[1m128s\u001b[0m 740ms/step - accuracy: 0.3950 - loss: 1.3060 - val_accuracy: 0.4701 - val_loss: 1.2836\n",
      "Fine-tuning ResNet50...\n",
      "Epoch 1/5\n",
      "\u001b[1m173/173\u001b[0m \u001b[32m━━━━━━━━━━━━━━━━━━━━\u001b[0m\u001b[37m\u001b[0m \u001b[1m322s\u001b[0m 2s/step - accuracy: 0.3031 - loss: 2.6430 - val_accuracy: 0.2300 - val_loss: 9.8947\n",
      "Epoch 2/5\n",
      "\u001b[1m173/173\u001b[0m \u001b[32m━━━━━━━━━━━━━━━━━━━━\u001b[0m\u001b[37m\u001b[0m \u001b[1m278s\u001b[0m 2s/step - accuracy: 0.5296 - loss: 1.1390 - val_accuracy: 0.2300 - val_loss: 26.1328\n",
      "Epoch 3/5\n",
      "\u001b[1m173/173\u001b[0m \u001b[32m━━━━━━━━━━━━━━━━━━━━\u001b[0m\u001b[37m\u001b[0m \u001b[1m307s\u001b[0m 2s/step - accuracy: 0.6129 - loss: 0.9124 - val_accuracy: 0.2300 - val_loss: 22.0398\n",
      "Epoch 4/5\n",
      "\u001b[1m173/173\u001b[0m \u001b[32m━━━━━━━━━━━━━━━━━━━━\u001b[0m\u001b[37m\u001b[0m \u001b[1m320s\u001b[0m 2s/step - accuracy: 0.6635 - loss: 0.8069 - val_accuracy: 0.2426 - val_loss: 6.4792\n",
      "Epoch 5/5\n",
      "\u001b[1m173/173\u001b[0m \u001b[32m━━━━━━━━━━━━━━━━━━━━\u001b[0m\u001b[37m\u001b[0m \u001b[1m339s\u001b[0m 2s/step - accuracy: 0.7167 - loss: 0.6829 - val_accuracy: 0.3555 - val_loss: 1.4784\n"
     ]
    }
   ],
   "source": [
    "# Compile and Train ResNet50\n",
    "resnet50_model = build_resnet50((IMG_SIZE[0], IMG_SIZE[1], 3), len(train_gen.class_indices))\n",
    "resnet50_model.compile(optimizer=Adam(learning_rate=0.0001), loss='categorical_crossentropy', metrics=['accuracy'])\n",
    "\n",
    "print(\"Training ResNet50 model...\")\n",
    "history_resnet = resnet50_model.fit(train_gen, validation_data=val_gen, epochs=10, verbose=1)\n",
    "\n",
    "# Fine-tune ResNet50\n",
    "print(\"Fine-tuning ResNet50...\")\n",
    "resnet50_model.layers[0].trainable = True  # Unfreeze base model\n",
    "resnet50_model.compile(optimizer=Adam(learning_rate=0.00001), loss='categorical_crossentropy', metrics=['accuracy'])\n",
    "history_resnet_ft = resnet50_model.fit(train_gen, validation_data=val_gen, epochs=5, verbose=1)"
   ]
  },
  {
   "cell_type": "code",
   "execution_count": 18,
   "metadata": {},
   "outputs": [],
   "source": [
    "def plot_history(history, title):\n",
    "    plt.plot(history.history['accuracy'], label='Train Accuracy')\n",
    "    plt.plot(history.history['val_accuracy'], label='Val Accuracy')\n",
    "    plt.title(title)\n",
    "    plt.xlabel('Epochs')\n",
    "    plt.ylabel('Accuracy')\n",
    "    plt.legend()\n",
    "    plt.show()"
   ]
  },
  {
   "cell_type": "code",
   "execution_count": 33,
   "metadata": {},
   "outputs": [
    {
     "name": "stdout",
     "output_type": "stream",
     "text": [
      "Evaluating ResNet50...\n",
      "\u001b[1m38/38\u001b[0m \u001b[32m━━━━━━━━━━━━━━━━━━━━\u001b[0m\u001b[37m\u001b[0m \u001b[1m25s\u001b[0m 667ms/step - accuracy: 0.3857 - loss: 1.4194\n",
      "ResNet50 Test Accuracy: 0.3749\n",
      "\u001b[1m38/38\u001b[0m \u001b[32m━━━━━━━━━━━━━━━━━━━━\u001b[0m\u001b[37m\u001b[0m \u001b[1m17s\u001b[0m 435ms/step\n",
      "\u001b[1m38/38\u001b[0m \u001b[32m━━━━━━━━━━━━━━━━━━━━\u001b[0m\u001b[37m\u001b[0m \u001b[1m32s\u001b[0m 803ms/step\n",
      "CNN Classification Report:\n",
      "              precision    recall  f1-score   support\n",
      "\n",
      "        100X       0.26      1.00      0.42       312\n",
      "        200X       0.00      0.00      0.00       302\n",
      "        400X       0.00      0.00      0.00       273\n",
      "         40X       0.00      0.00      0.00       300\n",
      "\n",
      "    accuracy                           0.26      1187\n",
      "   macro avg       0.07      0.25      0.10      1187\n",
      "weighted avg       0.07      0.26      0.11      1187\n",
      "\n",
      "ResNet50 Classification Report:\n",
      "              precision    recall  f1-score   support\n",
      "\n",
      "        100X       0.19      0.09      0.12       312\n",
      "        200X       0.26      0.18      0.22       302\n",
      "        400X       0.70      0.38      0.49       273\n",
      "         40X       0.38      0.86      0.53       300\n",
      "\n",
      "    accuracy                           0.37      1187\n",
      "   macro avg       0.38      0.38      0.34      1187\n",
      "weighted avg       0.37      0.37      0.33      1187\n",
      "\n",
      "AUC-ROC Scores:\n",
      "CNN AUC-ROC: 0.5000\n",
      "ResNet50 AUC-ROC: 0.6987\n"
     ]
    },
    {
     "name": "stderr",
     "output_type": "stream",
     "text": [
      "c:\\Users\\barga\\AppData\\Local\\Programs\\Python\\Python312\\Lib\\site-packages\\sklearn\\metrics\\_classification.py:1531: UndefinedMetricWarning: Precision is ill-defined and being set to 0.0 in labels with no predicted samples. Use `zero_division` parameter to control this behavior.\n",
      "  _warn_prf(average, modifier, f\"{metric.capitalize()} is\", len(result))\n",
      "c:\\Users\\barga\\AppData\\Local\\Programs\\Python\\Python312\\Lib\\site-packages\\sklearn\\metrics\\_classification.py:1531: UndefinedMetricWarning: Precision is ill-defined and being set to 0.0 in labels with no predicted samples. Use `zero_division` parameter to control this behavior.\n",
      "  _warn_prf(average, modifier, f\"{metric.capitalize()} is\", len(result))\n",
      "c:\\Users\\barga\\AppData\\Local\\Programs\\Python\\Python312\\Lib\\site-packages\\sklearn\\metrics\\_classification.py:1531: UndefinedMetricWarning: Precision is ill-defined and being set to 0.0 in labels with no predicted samples. Use `zero_division` parameter to control this behavior.\n",
      "  _warn_prf(average, modifier, f\"{metric.capitalize()} is\", len(result))\n"
     ]
    },
    {
     "data": {
      "image/png": "[encoded data removed]",
      "text/plain": [
       "<Figure size 640x480 with 1 Axes>"
      ]
     },
     "metadata": {},
     "output_type": "display_data"
    },
    {
     "data": {
      "image/png": "[encoded data removed]",
      "text/plain": [
       "<Figure size 640x480 with 1 Axes>"
      ]
     },
     "metadata": {},
     "output_type": "display_data"
    },
    {
     "data": {
      "image/png": "[encoded data removed]",
      "text/plain": [
       "<Figure size 640x480 with 1 Axes>"
      ]
     },
     "metadata": {},
     "output_type": "display_data"
    }
   ],
   "source": [
    "# Evaluate ResNet50\n",
    "print(\"Evaluating ResNet50...\")\n",
    "resnet_loss, resnet_acc = resnet50_model.evaluate(test_gen, verbose=1)\n",
    "print(f\"ResNet50 Test Accuracy: {resnet_acc:.4f}\")\n",
    "\n",
    "# Generate classification report\n",
    "test_gen.reset()\n",
    "y_true = test_gen.classes\n",
    "y_pred_cnn = cnn_model.predict(test_gen)\n",
    "y_pred_resnet = resnet50_model.predict(test_gen)\n",
    "\n",
    "print(\"CNN Classification Report:\")\n",
    "print(classification_report(y_true, y_pred_cnn.argmax(axis=1), target_names=list(test_gen.class_indices.keys())))\n",
    "\n",
    "print(\"ResNet50 Classification Report:\")\n",
    "print(classification_report(y_true, y_pred_resnet.argmax(axis=1), target_names=list(test_gen.class_indices.keys())))\n",
    "\n",
    "# Compute AUC-ROC\n",
    "print(\"AUC-ROC Scores:\")\n",
    "cnn_auc = roc_auc_score(y_true, y_pred_cnn, multi_class='ovr')\n",
    "resnet_auc = roc_auc_score(y_true, y_pred_resnet, multi_class='ovr')\n",
    "print(f\"CNN AUC-ROC: {cnn_auc:.4f}\")\n",
    "print(f\"ResNet50 AUC-ROC: {resnet_auc:.4f}\")\n",
    "\n",
    "plot_history(history_cnn, \"CNN Training History\")\n",
    "plot_history(history_resnet, \"ResNet50 Training History\")\n",
    "plot_history(history_resnet_ft, \"ResNet50 Fine-Tuning History\")\n"
   ]
  },
  {
   "cell_type": "code",
   "execution_count": 34,
   "metadata": {},
   "outputs": [],
   "source": [
    "import os\n",
    "import numpy as np\n",
    "import pandas as pd\n",
    "import matplotlib.pyplot as plt\n",
    "from sklearn.model_selection import train_test_split\n",
    "from sklearn.metrics import roc_auc_score\n",
    "from tensorflow.keras.preprocessing.image import ImageDataGenerator\n",
    "from tensorflow.keras.models import Sequential, Model\n",
    "from tensorflow.keras.layers import Conv2D, MaxPooling2D, Flatten, Dense, Dropout, GlobalAveragePooling2D\n",
    "from tensorflow.keras.applications import ResNet50\n",
    "from tensorflow.keras.callbacks import EarlyStopping\n",
    "from tensorflow.keras.optimizers import Adam\n",
    "\n",
    "def load_dataset_structure(dataset_path):\n",
    "    \"\"\"Loads dataset structure and returns a DataFrame.\"\"\"\n",
    "    image_paths, labels = [], []\n",
    "    for root, dirs, files in os.walk(dataset_path):\n",
    "        for file in files:\n",
    "            if file.endswith(\".png\") or file.endswith(\".jpg\"):\n",
    "                image_paths.append(os.path.join(root, file))\n",
    "                labels.append(os.path.basename(root))\n",
    "    return pd.DataFrame({\"file_path\": image_paths, \"label\": labels})\n",
    "\n",
    "def visualize_class_distribution(df):\n",
    "    \"\"\"Visualizes class distribution.\"\"\"\n",
    "    class_counts = df['label'].value_counts()\n",
    "    class_counts.plot(kind='bar', title='Class Distribution')\n",
    "    plt.xlabel('Class')\n",
    "    plt.ylabel('Count')\n",
    "    plt.show()\n",
    "\n",
    "def preprocess_and_split(df, test_size=0.2, val_size=0.2):\n",
    "    \"\"\"Splits the dataset into train, validation, and test sets.\"\"\"\n",
    "    train_df, test_df = train_test_split(df, test_size=test_size, stratify=df['label'], random_state=42)\n",
    "    train_df, val_df = train_test_split(train_df, test_size=val_size, stratify=train_df['label'], random_state=42)\n",
    "    return train_df, val_df, test_df\n",
    "\n",
    "def create_generators(train_df, val_df, test_df, target_size=(224, 224), batch_size=32):\n",
    "    \"\"\"Creates data generators for training, validation, and testing.\"\"\"\n",
    "    train_datagen = ImageDataGenerator(\n",
    "        rescale=1./255,\n",
    "        rotation_range=20,\n",
    "        width_shift_range=0.2,\n",
    "        height_shift_range=0.2,\n",
    "        shear_range=0.2,\n",
    "        zoom_range=0.2,\n",
    "        horizontal_flip=True\n",
    "    )\n",
    "\n",
    "    test_val_datagen = ImageDataGenerator(rescale=1./255)\n",
    "\n",
    "    train_generator = train_datagen.flow_from_dataframe(\n",
    "        train_df,\n",
    "        x_col='file_path',\n",
    "        y_col='label',\n",
    "        target_size=target_size,\n",
    "        batch_size=batch_size,\n",
    "        class_mode='categorical'\n",
    "    )\n",
    "\n",
    "    val_generator = test_val_datagen.flow_from_dataframe(\n",
    "        val_df,\n",
    "        x_col='file_path',\n",
    "        y_col='label',\n",
    "        target_size=target_size,\n",
    "        batch_size=batch_size,\n",
    "        class_mode='categorical'\n",
    "    )\n",
    "\n",
    "    test_generator = test_val_datagen.flow_from_dataframe(\n",
    "        test_df,\n",
    "        x_col='file_path',\n",
    "        y_col='label',\n",
    "        target_size=target_size,\n",
    "        batch_size=batch_size,\n",
    "        class_mode='categorical',\n",
    "        shuffle=False\n",
    "    )\n",
    "\n",
    "    return train_generator, val_generator, test_generator\n",
    "\n",
    "def create_cnn_model(input_shape, num_classes):\n",
    "    \"\"\"Creates and returns a custom CNN model.\"\"\"\n",
    "    model = Sequential([\n",
    "        Conv2D(32, (3, 3), activation='relu', input_shape=input_shape),\n",
    "        MaxPooling2D((2, 2)),\n",
    "        Conv2D(64, (3, 3), activation='relu'),\n",
    "        MaxPooling2D((2, 2)),\n",
    "        Conv2D(128, (3, 3), activation='relu'),\n",
    "        MaxPooling2D((2, 2)),\n",
    "        Flatten(),\n",
    "        Dense(128, activation='relu'),\n",
    "        Dropout(0.5),\n",
    "        Dense(num_classes, activation='softmax')\n",
    "    ])\n",
    "    return model\n",
    "\n",
    "def create_resnet50_model(input_shape, num_classes):\n",
    "    \"\"\"Creates and returns a ResNet50-based transfer learning model.\"\"\"\n",
    "    base_model = ResNet50(weights='imagenet', include_top=False, input_shape=input_shape)\n",
    "    base_model.trainable = False\n",
    "\n",
    "    x = base_model.output\n",
    "    x = GlobalAveragePooling2D()(x)\n",
    "    x = Dense(128, activation='relu')(x)\n",
    "    x = Dropout(0.5)(x)\n",
    "    predictions = Dense(num_classes, activation='softmax')(x)\n",
    "\n",
    "    model = Model(inputs=base_model.input, outputs=predictions)\n",
    "    return model\n",
    "\n",
    "def train_and_evaluate_model(model, train_generator, val_generator, test_generator, epochs=100):\n",
    "    \"\"\"Trains and evaluates the model.\"\"\"\n",
    "    model.compile(optimizer=Adam(learning_rate=0.0001), loss='categorical_crossentropy', metrics=['accuracy'])\n",
    "\n",
    "    early_stopping = EarlyStopping(monitor='val_loss', patience=10, restore_best_weights=True)\n",
    "\n",
    "    history = model.fit(\n",
    "        train_generator,\n",
    "        validation_data=val_generator,\n",
    "        epochs=epochs,\n",
    "        callbacks=[early_stopping]\n",
    "    )\n",
    "\n",
    "    test_loss, test_accuracy = model.evaluate(test_generator)\n",
    "    print(f\"Test Accuracy: {test_accuracy * 100:.2f}%\")\n",
    "    return history\n",
    "\n",
    "def plot_history(history):\n",
    "    \"\"\"Plots training and validation accuracy and loss.\"\"\"\n",
    "    plt.figure(figsize=(12, 4))\n",
    "\n",
    "    # Plot accuracy\n",
    "    plt.subplot(1, 2, 1)\n",
    "    plt.plot(history.history['accuracy'], label='Train Accuracy')\n",
    "    plt.plot(history.history['val_accuracy'], label='Validation Accuracy')\n",
    "    plt.title('Accuracy')\n",
    "    plt.xlabel('Epochs')\n",
    "    plt.ylabel('Accuracy')\n",
    "    plt.legend()\n",
    "\n",
    "    # Plot loss\n",
    "    plt.subplot(1, 2, 2)\n",
    "    plt.plot(history.history['loss'], label='Train Loss')\n",
    "    plt.plot(history.history['val_loss'], label='Validation Loss')\n",
    "    plt.title('Loss')\n",
    "    plt.xlabel('Epochs')\n",
    "    plt.ylabel('Loss')\n",
    "    plt.legend()\n",
    "\n",
    "    plt.show()"
   ]
  },
  {
   "cell_type": "code",
   "execution_count": 35,
   "metadata": {},
   "outputs": [
    {
     "name": "stderr",
     "output_type": "stream",
     "text": [
      "c:\\Users\\barga\\AppData\\Local\\Programs\\Python\\Python312\\Lib\\site-packages\\keras\\src\\layers\\convolutional\\base_conv.py:107: UserWarning: Do not pass an `input_shape`/`input_dim` argument to a layer. When using Sequential models, prefer using an `Input(shape)` object as the first layer in the model instead.\n",
      "  super().__init__(activity_regularizer=activity_regularizer, **kwargs)\n"
     ]
    },
    {
     "name": "stdout",
     "output_type": "stream",
     "text": [
      "Epoch 1/100\n"
     ]
    },
    {
     "ename": "ValueError",
     "evalue": "Exception encountered when calling Sequential.call().\n\n\u001b[1mInput 0 of layer \"dense_10\" is incompatible with the layer: expected axis -1 of input shape to have value 86528, but received input with shape (None, 25088)\u001b[0m\n\nArguments received by Sequential.call():\n  • inputs=tf.Tensor(shape=(None, 128, 128, 3), dtype=float32)\n  • training=True\n  • mask=None",
     "output_type": "error",
     "traceback": [
      "\u001b[1;31m---------------------------------------------------------------------------\u001b[0m",
      "\u001b[1;31mValueError\u001b[0m                                Traceback (most recent call last)",
      "Cell \u001b[1;32mIn[35], line 5\u001b[0m\n\u001b[0;32m      2\u001b[0m num_classes \u001b[38;5;241m=\u001b[39m \u001b[38;5;28mlen\u001b[39m(train_gen\u001b[38;5;241m.\u001b[39mclass_indices)\n\u001b[0;32m      4\u001b[0m cnn_model \u001b[38;5;241m=\u001b[39m create_cnn_model(input_shape, num_classes)\n\u001b[1;32m----> 5\u001b[0m cnn_history \u001b[38;5;241m=\u001b[39m \u001b[43mtrain_and_evaluate_model\u001b[49m\u001b[43m(\u001b[49m\u001b[43mcnn_model\u001b[49m\u001b[43m,\u001b[49m\u001b[43m \u001b[49m\u001b[43mtrain_gen\u001b[49m\u001b[43m,\u001b[49m\u001b[43m \u001b[49m\u001b[43mval_gen\u001b[49m\u001b[43m,\u001b[49m\u001b[43m \u001b[49m\u001b[43mtest_gen\u001b[49m\u001b[43m,\u001b[49m\u001b[43m \u001b[49m\u001b[43mepochs\u001b[49m\u001b[38;5;241;43m=\u001b[39;49m\u001b[38;5;241;43m100\u001b[39;49m\u001b[43m)\u001b[49m\n\u001b[0;32m      6\u001b[0m plot_history(cnn_history)\n\u001b[0;32m      8\u001b[0m resnet_model \u001b[38;5;241m=\u001b[39m create_resnet50_model(input_shape, num_classes)\n",
      "Cell \u001b[1;32mIn[34], line 118\u001b[0m, in \u001b[0;36mtrain_and_evaluate_model\u001b[1;34m(model, train_generator, val_generator, test_generator, epochs)\u001b[0m\n\u001b[0;32m    114\u001b[0m model\u001b[38;5;241m.\u001b[39mcompile(optimizer\u001b[38;5;241m=\u001b[39mAdam(learning_rate\u001b[38;5;241m=\u001b[39m\u001b[38;5;241m0.0001\u001b[39m), loss\u001b[38;5;241m=\u001b[39m\u001b[38;5;124m'\u001b[39m\u001b[38;5;124mcategorical_crossentropy\u001b[39m\u001b[38;5;124m'\u001b[39m, metrics\u001b[38;5;241m=\u001b[39m[\u001b[38;5;124m'\u001b[39m\u001b[38;5;124maccuracy\u001b[39m\u001b[38;5;124m'\u001b[39m])\n\u001b[0;32m    116\u001b[0m early_stopping \u001b[38;5;241m=\u001b[39m EarlyStopping(monitor\u001b[38;5;241m=\u001b[39m\u001b[38;5;124m'\u001b[39m\u001b[38;5;124mval_loss\u001b[39m\u001b[38;5;124m'\u001b[39m, patience\u001b[38;5;241m=\u001b[39m\u001b[38;5;241m10\u001b[39m, restore_best_weights\u001b[38;5;241m=\u001b[39m\u001b[38;5;28;01mTrue\u001b[39;00m)\n\u001b[1;32m--> 118\u001b[0m history \u001b[38;5;241m=\u001b[39m \u001b[43mmodel\u001b[49m\u001b[38;5;241;43m.\u001b[39;49m\u001b[43mfit\u001b[49m\u001b[43m(\u001b[49m\n\u001b[0;32m    119\u001b[0m \u001b[43m    \u001b[49m\u001b[43mtrain_generator\u001b[49m\u001b[43m,\u001b[49m\n\u001b[0;32m    120\u001b[0m \u001b[43m    \u001b[49m\u001b[43mvalidation_data\u001b[49m\u001b[38;5;241;43m=\u001b[39;49m\u001b[43mval_generator\u001b[49m\u001b[43m,\u001b[49m\n\u001b[0;32m    121\u001b[0m \u001b[43m    \u001b[49m\u001b[43mepochs\u001b[49m\u001b[38;5;241;43m=\u001b[39;49m\u001b[43mepochs\u001b[49m\u001b[43m,\u001b[49m\n\u001b[0;32m    122\u001b[0m \u001b[43m    \u001b[49m\u001b[43mcallbacks\u001b[49m\u001b[38;5;241;43m=\u001b[39;49m\u001b[43m[\u001b[49m\u001b[43mearly_stopping\u001b[49m\u001b[43m]\u001b[49m\n\u001b[0;32m    123\u001b[0m \u001b[43m\u001b[49m\u001b[43m)\u001b[49m\n\u001b[0;32m    125\u001b[0m test_loss, test_accuracy \u001b[38;5;241m=\u001b[39m model\u001b[38;5;241m.\u001b[39mevaluate(test_generator)\n\u001b[0;32m    126\u001b[0m \u001b[38;5;28mprint\u001b[39m(\u001b[38;5;124mf\u001b[39m\u001b[38;5;124m\"\u001b[39m\u001b[38;5;124mTest Accuracy: \u001b[39m\u001b[38;5;132;01m{\u001b[39;00mtest_accuracy\u001b[38;5;250m \u001b[39m\u001b[38;5;241m*\u001b[39m\u001b[38;5;250m \u001b[39m\u001b[38;5;241m100\u001b[39m\u001b[38;5;132;01m:\u001b[39;00m\u001b[38;5;124m.2f\u001b[39m\u001b[38;5;132;01m}\u001b[39;00m\u001b[38;5;124m%\u001b[39m\u001b[38;5;124m\"\u001b[39m)\n",
      "File \u001b[1;32mc:\\Users\\barga\\AppData\\Local\\Programs\\Python\\Python312\\Lib\\site-packages\\keras\\src\\utils\\traceback_utils.py:122\u001b[0m, in \u001b[0;36mfilter_traceback.<locals>.error_handler\u001b[1;34m(*args, **kwargs)\u001b[0m\n\u001b[0;32m    119\u001b[0m     filtered_tb \u001b[38;5;241m=\u001b[39m _process_traceback_frames(e\u001b[38;5;241m.\u001b[39m__traceback__)\n\u001b[0;32m    120\u001b[0m     \u001b[38;5;66;03m# To get the full stack trace, call:\u001b[39;00m\n\u001b[0;32m    121\u001b[0m     \u001b[38;5;66;03m# `keras.config.disable_traceback_filtering()`\u001b[39;00m\n\u001b[1;32m--> 122\u001b[0m     \u001b[38;5;28;01mraise\u001b[39;00m e\u001b[38;5;241m.\u001b[39mwith_traceback(filtered_tb) \u001b[38;5;28;01mfrom\u001b[39;00m \u001b[38;5;28;01mNone\u001b[39;00m\n\u001b[0;32m    123\u001b[0m \u001b[38;5;28;01mfinally\u001b[39;00m:\n\u001b[0;32m    124\u001b[0m     \u001b[38;5;28;01mdel\u001b[39;00m filtered_tb\n",
      "File \u001b[1;32mc:\\Users\\barga\\AppData\\Local\\Programs\\Python\\Python312\\Lib\\site-packages\\keras\\src\\layers\\input_spec.py:227\u001b[0m, in \u001b[0;36massert_input_compatibility\u001b[1;34m(input_spec, inputs, layer_name)\u001b[0m\n\u001b[0;32m    222\u001b[0m     \u001b[38;5;28;01mfor\u001b[39;00m axis, value \u001b[38;5;129;01min\u001b[39;00m spec\u001b[38;5;241m.\u001b[39maxes\u001b[38;5;241m.\u001b[39mitems():\n\u001b[0;32m    223\u001b[0m         \u001b[38;5;28;01mif\u001b[39;00m value \u001b[38;5;129;01mis\u001b[39;00m \u001b[38;5;129;01mnot\u001b[39;00m \u001b[38;5;28;01mNone\u001b[39;00m \u001b[38;5;129;01mand\u001b[39;00m shape[axis] \u001b[38;5;129;01mnot\u001b[39;00m \u001b[38;5;129;01min\u001b[39;00m {\n\u001b[0;32m    224\u001b[0m             value,\n\u001b[0;32m    225\u001b[0m             \u001b[38;5;28;01mNone\u001b[39;00m,\n\u001b[0;32m    226\u001b[0m         }:\n\u001b[1;32m--> 227\u001b[0m             \u001b[38;5;28;01mraise\u001b[39;00m \u001b[38;5;167;01mValueError\u001b[39;00m(\n\u001b[0;32m    228\u001b[0m                 \u001b[38;5;124mf\u001b[39m\u001b[38;5;124m'\u001b[39m\u001b[38;5;124mInput \u001b[39m\u001b[38;5;132;01m{\u001b[39;00minput_index\u001b[38;5;132;01m}\u001b[39;00m\u001b[38;5;124m of layer \u001b[39m\u001b[38;5;124m\"\u001b[39m\u001b[38;5;132;01m{\u001b[39;00mlayer_name\u001b[38;5;132;01m}\u001b[39;00m\u001b[38;5;124m\"\u001b[39m\u001b[38;5;124m is \u001b[39m\u001b[38;5;124m'\u001b[39m\n\u001b[0;32m    229\u001b[0m                 \u001b[38;5;124mf\u001b[39m\u001b[38;5;124m\"\u001b[39m\u001b[38;5;124mincompatible with the layer: expected axis \u001b[39m\u001b[38;5;132;01m{\u001b[39;00maxis\u001b[38;5;132;01m}\u001b[39;00m\u001b[38;5;124m \u001b[39m\u001b[38;5;124m\"\u001b[39m\n\u001b[0;32m    230\u001b[0m                 \u001b[38;5;124mf\u001b[39m\u001b[38;5;124m\"\u001b[39m\u001b[38;5;124mof input shape to have value \u001b[39m\u001b[38;5;132;01m{\u001b[39;00mvalue\u001b[38;5;132;01m}\u001b[39;00m\u001b[38;5;124m, \u001b[39m\u001b[38;5;124m\"\u001b[39m\n\u001b[0;32m    231\u001b[0m                 \u001b[38;5;124m\"\u001b[39m\u001b[38;5;124mbut received input with \u001b[39m\u001b[38;5;124m\"\u001b[39m\n\u001b[0;32m    232\u001b[0m                 \u001b[38;5;124mf\u001b[39m\u001b[38;5;124m\"\u001b[39m\u001b[38;5;124mshape \u001b[39m\u001b[38;5;132;01m{\u001b[39;00mshape\u001b[38;5;132;01m}\u001b[39;00m\u001b[38;5;124m\"\u001b[39m\n\u001b[0;32m    233\u001b[0m             )\n\u001b[0;32m    234\u001b[0m \u001b[38;5;66;03m# Check shape.\u001b[39;00m\n\u001b[0;32m    235\u001b[0m \u001b[38;5;28;01mif\u001b[39;00m spec\u001b[38;5;241m.\u001b[39mshape \u001b[38;5;129;01mis\u001b[39;00m \u001b[38;5;129;01mnot\u001b[39;00m \u001b[38;5;28;01mNone\u001b[39;00m:\n",
      "\u001b[1;31mValueError\u001b[0m: Exception encountered when calling Sequential.call().\n\n\u001b[1mInput 0 of layer \"dense_10\" is incompatible with the layer: expected axis -1 of input shape to have value 86528, but received input with shape (None, 25088)\u001b[0m\n\nArguments received by Sequential.call():\n  • inputs=tf.Tensor(shape=(None, 128, 128, 3), dtype=float32)\n  • training=True\n  • mask=None"
     ]
    }
   ],
   "source": [
    "input_shape = (224, 224, 3)\n",
    "num_classes = len(train_gen.class_indices)\n",
    "\n",
    "cnn_model = create_cnn_model(input_shape, num_classes)\n",
    "cnn_history = train_and_evaluate_model(cnn_model, train_gen, val_gen, test_gen, epochs=100)\n",
    "plot_history(cnn_history)\n",
    "\n",
    "resnet_model = create_resnet50_model(input_shape, num_classes)\n",
    "resnet_history = train_and_evaluate_model(resnet_model, train_gen, val_gen, test_gen, epochs=100)\n",
    "plot_history(resnet_history)"
   ]
  }
 ],
 "metadata": {
  "kernelspec": {
   "display_name": "Python 3",
   "language": "python",
   "name": "python3"
  },
  "language_info": {
   "codemirror_mode": {
    "name": "ipython",
    "version": 3
   },
   "file_extension": ".py",
   "mimetype": "text/x-python",
   "name": "python",
   "nbconvert_exporter": "python",
   "pygments_lexer": "ipython3",
   "version": "3.12.0"
  }
 },
 "nbformat": 4,
 "nbformat_minor": 2
}
